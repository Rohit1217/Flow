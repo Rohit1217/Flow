{
  "cells": [
    {
      "cell_type": "markdown",
      "metadata": {
        "id": "view-in-github",
        "colab_type": "text"
      },
      "source": [
        "<a href=\"https://colab.research.google.com/github/Rohit1217/Flow/blob/main/Flow_(1).ipynb\" target=\"_parent\"><img src=\"https://colab.research.google.com/assets/colab-badge.svg\" alt=\"Open In Colab\"/></a>"
      ]
    },
    {
      "cell_type": "code",
      "execution_count": 1,
      "metadata": {
        "colab": {
          "base_uri": "https://localhost:8080/"
        },
        "id": "daXQ699wZ7JD",
        "outputId": "79d9d2a6-3d3a-434c-db57-ac4943d9c53e"
      },
      "outputs": [
        {
          "output_type": "stream",
          "name": "stdout",
          "text": [
            "Requirement already satisfied: matplotlib in /usr/local/lib/python3.10/dist-packages (3.7.1)\n",
            "Requirement already satisfied: contourpy>=1.0.1 in /usr/local/lib/python3.10/dist-packages (from matplotlib) (1.2.0)\n",
            "Requirement already satisfied: cycler>=0.10 in /usr/local/lib/python3.10/dist-packages (from matplotlib) (0.12.1)\n",
            "Requirement already satisfied: fonttools>=4.22.0 in /usr/local/lib/python3.10/dist-packages (from matplotlib) (4.47.2)\n",
            "Requirement already satisfied: kiwisolver>=1.0.1 in /usr/local/lib/python3.10/dist-packages (from matplotlib) (1.4.5)\n",
            "Requirement already satisfied: numpy>=1.20 in /usr/local/lib/python3.10/dist-packages (from matplotlib) (1.23.5)\n",
            "Requirement already satisfied: packaging>=20.0 in /usr/local/lib/python3.10/dist-packages (from matplotlib) (23.2)\n",
            "Requirement already satisfied: pillow>=6.2.0 in /usr/local/lib/python3.10/dist-packages (from matplotlib) (9.4.0)\n",
            "Requirement already satisfied: pyparsing>=2.3.1 in /usr/local/lib/python3.10/dist-packages (from matplotlib) (3.1.1)\n",
            "Requirement already satisfied: python-dateutil>=2.7 in /usr/local/lib/python3.10/dist-packages (from matplotlib) (2.8.2)\n",
            "Requirement already satisfied: six>=1.5 in /usr/local/lib/python3.10/dist-packages (from python-dateutil>=2.7->matplotlib) (1.16.0)\n"
          ]
        }
      ],
      "source": [
        "!pip install matplotlib"
      ]
    },
    {
      "cell_type": "code",
      "execution_count": 2,
      "metadata": {
        "id": "uvW5Guuocp5t"
      },
      "outputs": [],
      "source": [
        "import matplotlib.pyplot as plt\n",
        "import numpy as np\n",
        "\n",
        "import torch\n",
        "from torchvision import datasets, transforms\n",
        "from torch.utils.data import TensorDataset,DataLoader\n",
        "import torch.nn as nn\n",
        "import torch.optim as optim\n",
        "import torch.nn.functional as F"
      ]
    },
    {
      "cell_type": "code",
      "execution_count": 3,
      "metadata": {
        "id": "c3sTEISgLwae"
      },
      "outputs": [],
      "source": [
        "Device=torch.device(\"cuda\" if torch.cuda.is_available() else \"cpu\")"
      ]
    },
    {
      "cell_type": "code",
      "execution_count": 4,
      "metadata": {
        "id": "UbZBVIt0QpUC"
      },
      "outputs": [],
      "source": [
        "transform=transforms.Compose([transforms.ToTensor(),transforms.Normalize((0.5,), (0.5,))])\n",
        "trainset = datasets.MNIST('~/.pytorch/MNIST_data/', download=True, train=True, transform=transform)\n",
        "\n",
        "data=trainset.data\n",
        "data=data.to(dtype=torch.float32)\n",
        "norm = transforms.Normalize((128,),(128,))\n",
        "data=norm(data)\n",
        "data_target=data*0.5+0.5\n",
        "data=data.view(60000,784)\n",
        "data=data.to(dtype=torch.float32)\n",
        "\n",
        "data_target=data_target.view(60000,784)\n",
        "trainset=TensorDataset(data,data_target)\n",
        "trainloader=DataLoader(trainset,batch_size=256,shuffle=True)\n"
      ]
    },
    {
      "cell_type": "code",
      "execution_count": 5,
      "metadata": {
        "id": "j7k3QY7UZ7JF"
      },
      "outputs": [],
      "source": [
        "def gaussian_pdf(x, mean, std_dev):\n",
        "    return 1 / (torch.sqrt(2 * torch.tensor(np.pi)) * std_dev) * torch.exp(-0.5 * ((x - mean) / std_dev)**2)\n"
      ]
    },
    {
      "cell_type": "code",
      "execution_count": 6,
      "metadata": {
        "colab": {
          "base_uri": "https://localhost:8080/"
        },
        "id": "xxUhLeSoe2xB",
        "outputId": "0b769a10-4500-4a7b-a196-87940857ada9"
      },
      "outputs": [
        {
          "output_type": "stream",
          "name": "stdout",
          "text": [
            "tensor([[-1.7312, -0.2813, -2.1592,  1.4464,  1.8657,  1.9125,  0.1874, -0.1299,\n",
            "          0.7409, -0.7276, -0.1223,  0.6982, -0.8321, -0.5096,  0.1882, -0.7245,\n",
            "         -1.0169,  0.6446,  0.2254,  2.6652],\n",
            "        [-0.4860,  0.7086,  0.5798, -0.1686, -1.1664, -0.1599, -1.9507, -1.3662,\n",
            "          1.7909, -0.9496, -0.5812,  0.3116, -0.3924, -0.6751,  1.2415,  0.8271,\n",
            "          0.6359, -0.0915, -0.3848,  0.6819]])\n",
            "tensor([[-0.2813,  1.4464,  1.9125, -0.1299, -0.7276,  0.6982, -0.5096, -0.7245,\n",
            "          0.6446,  2.6652, -0.7313, -2.1592,  2.8656,  1.1873,  1.7409,  0.8775,\n",
            "         -0.8321,  0.1882, -0.0175,  1.2249],\n",
            "        [ 0.7086, -0.1686, -0.1599, -1.3662, -0.9496,  0.3116, -0.6751,  0.8271,\n",
            "         -0.0915,  0.6819, -0.4860,  1.5797, -1.1664, -1.9507,  1.7909, -0.5812,\n",
            "          0.5953,  2.2414,  0.6359, -0.3848]], device='cuda:0',\n",
            "       grad_fn=<CatBackward0>)\n"
          ]
        },
        {
          "output_type": "execute_result",
          "data": {
            "text/plain": [
              "tensor([[-1.7312, -0.2813, -2.1592,  1.4464,  1.8657,  1.9125,  0.1874, -0.1299,\n",
              "          0.7409, -0.7276, -0.1223,  0.6982, -0.8321, -0.5096,  0.1882, -0.7245,\n",
              "         -1.0169,  0.6446,  0.2254,  2.6652],\n",
              "        [-0.4860,  0.7086,  0.5798, -0.1686, -1.1664, -0.1599, -1.9507, -1.3662,\n",
              "          1.7909, -0.9496, -0.5812,  0.3116, -0.3924, -0.6751,  1.2415,  0.8271,\n",
              "          0.6359, -0.0915, -0.3848,  0.6819]], device='cuda:0',\n",
              "       grad_fn=<CopySlices>)"
            ]
          },
          "metadata": {},
          "execution_count": 6
        }
      ],
      "source": [
        "class AffineCoupling(nn.Module):\n",
        "  def __init__(self,input_layer):\n",
        "    super(AffineCoupling,self).__init__()\n",
        "    self.inp=input_layer//2\n",
        "    self.fc1=nn.Linear(self.inp,1000).to(Device)\n",
        "    self.fc2=nn.Linear(1000,1000).to(Device)\n",
        "    self.fc3=nn.Linear(1000,1000).to(Device)\n",
        "    self.fc4=nn.Linear(1000,1000).to(Device)\n",
        "    self.fc5=nn.Linear(1000,self.inp).to(Device)\n",
        "    #self.fc6=nn.Linear(1000,self.inp).to(Device)\n",
        "    self.bn1=nn.BatchNorm1d(1000).to(Device)\n",
        "    self.bn2=nn.BatchNorm1d(1000).to(Device)\n",
        "    self.bn3=nn.BatchNorm1d(1000).to(Device)\n",
        "    self.bn4=nn.BatchNorm1d(1000).to(Device)\n",
        "    self.bn5=nn.BatchNorm1d(self.inp).to(Device)\n",
        "\n",
        "\n",
        "  def coupling_shuffler(self,x):\n",
        "    b,c=x.shape\n",
        "    layer=torch.rand(b,c).to(Device)\n",
        "    for i in range(c):\n",
        "      if i%2==0:\n",
        "        layer[:,c//2+i//2]=x[:,i]\n",
        "      else:\n",
        "        layer[:,i//2]=x[:,i]\n",
        "    return layer\n",
        "\n",
        "  def inverse(self,x):\n",
        "    b,c=x.shape\n",
        "    x0=x[:,:c//2]\n",
        "    x1=x[:,c//2:]\n",
        "    z=F.relu(self.bn1(self.fc1(x0)))\n",
        "    z=F.relu(self.bn2(self.fc2(z)))\n",
        "    z=F.relu(self.bn3(self.fc3(z)))\n",
        "    z=F.relu(self.bn4(self.fc4(z)))\n",
        "    z=F.relu(self.bn5(self.fc5(z)))\n",
        "    x1=x1-z\n",
        "    x=torch.cat((x0, x1), 1)\n",
        "    layer=torch.rand(b,c).to(Device)\n",
        "    for i in range(c):\n",
        "      if i>=c//2:\n",
        "        layer[:,2*i-c]=x[:,i]\n",
        "      else:\n",
        "        layer[:,i*2+1]=x[:,i]\n",
        "    return layer\n",
        "\n",
        "\n",
        "  def forward(self,x):\n",
        "    b,c=x.shape\n",
        "    x=self.coupling_shuffler(x)\n",
        "    x0=x[:,:c//2]\n",
        "    x1=x[:,c//2:]\n",
        "\n",
        "    z=F.relu(self.bn1(self.fc1(x0)))\n",
        "    z=F.relu(self.bn2(self.fc2(z)))\n",
        "    z=F.relu(self.bn3(self.fc3(z)))\n",
        "    z=F.relu(self.bn4(self.fc4(z)))\n",
        "    z=F.relu(self.bn5(self.fc5(z)))\n",
        "\n",
        "    x1=x1+z\n",
        "    x=torch.cat((x0, x1), 1)\n",
        "    return x\n",
        "\n",
        "x=torch.randn(2,20)\n",
        "print(x)\n",
        "aff=AffineCoupling(20)\n",
        "y=aff(x)\n",
        "print(aff(x))\n",
        "aff.inverse(y)\n"
      ]
    },
    {
      "cell_type": "code",
      "source": [
        "class Rescale(nn.Module):\n",
        "    def __init__(self, input_layer):\n",
        "        super(Rescale, self).__init__()\n",
        "        self.weight = nn.Parameter(torch.ones(input_layer)).to(Device)\n",
        "\n",
        "    def forward(self, x):\n",
        "        x = torch.exp(self.weight) * x\n",
        "        y=self.weight+x-x\n",
        "        return x,y"
      ],
      "metadata": {
        "id": "JsnzeEf1Ef7D"
      },
      "execution_count": 7,
      "outputs": []
    },
    {
      "cell_type": "code",
      "execution_count": 8,
      "metadata": {
        "colab": {
          "base_uri": "https://localhost:8080/"
        },
        "id": "X3m-xne4jyye",
        "outputId": "60f6eb1f-33d8-4645-ac82-1a3257eff249"
      },
      "outputs": [
        {
          "output_type": "stream",
          "name": "stdout",
          "text": [
            "tensor([[0.2013, 0.7807, 0.1169, 0.9708, 0.6213, 0.3164],\n",
            "        [0.1446, 0.3916, 0.1905, 0.8455, 0.0196, 0.8802]], device='cuda:0') tensor([[ 0.1838,  0.7806,  0.1168, -0.0292,  0.6213, -0.6745],\n",
            "        [ 0.1440,  0.3912,  0.1905,  1.8445,  0.0198,  1.8802]],\n",
            "       device='cuda:0') tensor([[3.2056, 4.8401, 8.4718, 2.6388, 7.1249, 9.0132],\n",
            "        [3.1093, 3.7814, 3.2360, 7.7320, 5.4892, 5.1109]], device='cuda:0',\n",
            "       grad_fn=<MulBackward0>) tensor([[1.0000, 1.0000, 1.0000, 1.0000, 1.0000, 1.0000],\n",
            "        [1.0000, 1.0000, 1.0000, 1.0000, 1.0000, 1.0000]], device='cuda:0',\n",
            "       grad_fn=<SubBackward0>)\n"
          ]
        }
      ],
      "source": [
        "class Flow(nn.Module):\n",
        "  def __init__(self,input_layer):\n",
        "    super(Flow,self).__init__()\n",
        "    self.inp=input_layer\n",
        "    self.ac1=AffineCoupling(input_layer)\n",
        "    self.ac2=AffineCoupling(input_layer)\n",
        "    self.ac3=AffineCoupling(input_layer)\n",
        "    self.ac4=AffineCoupling(input_layer)\n",
        "    self.ac5=AffineCoupling(input_layer)\n",
        "    self.ac6=AffineCoupling(input_layer)\n",
        "    self.scaling=Rescale(input_layer)\n",
        "\n",
        "  def inverse(self,x):\n",
        "    with torch.no_grad():\n",
        "      scaling_diag=self.scaling.weight\n",
        "      x = torch.matmul(x, torch.diag(torch.reciprocal(torch.exp(scaling_diag))))\n",
        "      x=self.ac5.inverse(x)\n",
        "      x=self.ac6.inverse(x)\n",
        "      x=self.ac4.inverse(x)\n",
        "      x=self.ac3.inverse(x)\n",
        "      x=self.ac2.inverse(x)\n",
        "      x=self.ac1.inverse(x)\n",
        "      return x\n",
        "\n",
        "\n",
        "  def forward(self,x):\n",
        "    x=self.ac1(x)\n",
        "    x=self.ac2(x)\n",
        "    x=self.ac3(x)\n",
        "    x=self.ac4(x)\n",
        "    x=self.ac5(x)\n",
        "    x=self.ac6(x)\n",
        "    x,y= self.scaling(x)\n",
        "    return x,y\n",
        "\n",
        "x=torch.rand(2,6)\n",
        "x=x.to(Device)\n",
        "y1=x\n",
        "flows=Flow(6)\n",
        "y,s=flows(x)\n",
        "x=flows.inverse(y)\n",
        "print(y1,x,y,s)\n"
      ]
    },
    {
      "cell_type": "code",
      "execution_count": 17,
      "metadata": {
        "colab": {
          "base_uri": "https://localhost:8080/"
        },
        "id": "tMMT-Tl35nEC",
        "outputId": "6630c536-d064-4ba9-f8e7-7ac9ccb0c9be"
      },
      "outputs": [
        {
          "output_type": "stream",
          "name": "stdout",
          "text": [
            "tensor([[-1.3630, -2.6777, -4.6162,  ...,  8.5511, 11.0031,  9.0026],\n",
            "        [-4.8333, -0.2578,  0.5499,  ...,  6.2304,  8.0249,  2.8552]],\n",
            "       device='cuda:0', grad_fn=<MulBackward0>) tensor([[1.0000, 1.0000, 1.0000,  ..., 1.0000, 1.0000, 1.0000],\n",
            "        [1.0000, 1.0000, 1.0000,  ..., 1.0000, 1.0000, 1.0000]],\n",
            "       device='cuda:0', grad_fn=<SubBackward0>)\n"
          ]
        },
        {
          "output_type": "execute_result",
          "data": {
            "text/plain": [
              "tensor(11490.6543, device='cuda:0', grad_fn=<MeanBackward0>)"
            ]
          },
          "metadata": {},
          "execution_count": 17
        }
      ],
      "source": [
        "def loss_f(x,diag):\n",
        "  #x=0.5*(torch.pow(x,2))+0.5*torch.log(torch.tensor(2*np.pi))\n",
        "  #torch.sum(diag)\n",
        "  #print(torch.mean(-(diag)+(0.5*(torch.pow(x,2))+0.5*torch.log(torch.tensor(2*np.pi)))))\n",
        "  return torch.mean(-torch.sum(diag)+torch.sum(0.5*(torch.pow(x,2))+0.5*torch.log(torch.tensor(2*np.pi)),dim=1))\n",
        "\n",
        "flow=Flow(784)\n",
        "x=torch.randn(2,784)\n",
        "y,s=flow(x)\n",
        "print(y,s)\n",
        "loss_f(y,s)"
      ]
    },
    {
      "cell_type": "code",
      "execution_count": 18,
      "metadata": {
        "id": "gP-ypPMJ4o_s"
      },
      "outputs": [],
      "source": [
        "epochs=1000\n",
        "model=Flow(784)\n",
        "optimizer=optim.Adam(model.parameters(),lr=0.001)\n",
        "model=model.to(Device)"
      ]
    },
    {
      "cell_type": "code",
      "execution_count": null,
      "metadata": {
        "id": "vvMVAThrPw-H",
        "colab": {
          "base_uri": "https://localhost:8080/"
        },
        "outputId": "b695b9b0-bdab-4259-d13d-439e7603731d"
      },
      "outputs": [
        {
          "output_type": "stream",
          "name": "stdout",
          "text": [
            "total_loss=-46692678.078125,average_loss=-198692.24714095745,epoch=0\n",
            "total_loss=-46757501.65625,average_loss=-198968.0921542553,epoch=1\n"
          ]
        }
      ],
      "source": [
        "model.train()\n",
        "for epoch in range(epochs):\n",
        "  total_loss=0\n",
        "  count=0\n",
        "  for input,_ in trainloader:\n",
        "    input=input.to(Device)\n",
        "    input,scaling=model(input)\n",
        "    loss=loss_f(input,scaling)\n",
        "\n",
        "    total_loss+=loss.item()\n",
        "    count+=1\n",
        "\n",
        "    optimizer.zero_grad()\n",
        "    loss.backward(retain_graph=True)\n",
        "    optimizer.step()\n",
        "\n",
        "    #print(total_loss)\n",
        "    #print(\"Gradient of self.scaling_diag:\")\n",
        "    #print(model.scaling.weight)\n",
        "    #print(model.scaling.weight)\n",
        "  print(f'total_loss={total_loss},average_loss={total_loss/count},epoch={epoch}')\n"
      ]
    },
    {
      "cell_type": "code",
      "execution_count": null,
      "metadata": {
        "id": "0xLIazzZRbP2"
      },
      "outputs": [],
      "source": [
        "with torch.no_grad():\n",
        "  #model.eval()\n",
        "  x=data[:64]\n",
        "  #print(x)\n",
        "  #x=torch.randn(64,784)\n",
        "  x=x.to('cuda:0')\n",
        "  #x=flow(x)\n",
        "  x = x.view(8, 8, 28, 28)\n",
        "  x = x.to('cpu')\n",
        "  image_np = x.detach().numpy()\n",
        "\n",
        "  # Create a figure and a set of subplots arranged in an 8x8 grid\n",
        "  fig, axes = plt.subplots(8, 8, figsize=(8, 8))\n",
        "\n",
        "  # Iterate through the subplots and display each image\n",
        "  for i in range(8):\n",
        "      for j in range(8):\n",
        "          axes[i, j].imshow(image_np[i, j], cmap='gray')\n",
        "          axes[i, j].axis('off')  # Turn off axis labels\n",
        "\n",
        "  plt.show()"
      ]
    },
    {
      "cell_type": "code",
      "source": [
        "print(model.scaling_diag)"
      ],
      "metadata": {
        "id": "vQECmrdkwq-I"
      },
      "execution_count": null,
      "outputs": []
    },
    {
      "cell_type": "code",
      "execution_count": null,
      "metadata": {
        "id": "laYbBS1jh5n4"
      },
      "outputs": [],
      "source": [
        "with torch.no_grad():\n",
        "  #model.eval()\n",
        "  x=data[:64]\n",
        "  #print(x)\n",
        "  x=torch.randn(64,784)\n",
        "  x=x.to('cuda:0')\n",
        "  #x=model(x)\n",
        "\n",
        "  x=model.inverse(x)\n",
        "  print(x[0])\n",
        "  x = torch.clamp(x, min=-1, max=1)\n",
        "  print(x[0])\n",
        "  x=x*0.5+0.5\n",
        "  print(x[0])\n",
        "  x = x.view(8,8, 28, 28)\n",
        "  x = x.to('cpu')\n",
        "  image_np = x.detach().numpy()\n",
        "\n",
        "\n",
        "  # Create a figure and a set of subplots arranged in an 8x8 grid\n",
        "  fig, axes = plt.subplots(8, 8, figsize=(8, 8))\n",
        "\n",
        "  # Iterate through the subplots and display each image\n",
        "  for i in range(8):\n",
        "      for j in range(8):\n",
        "          axes[i, j].imshow(image_np[i, j], cmap='gray')\n",
        "          axes[i, j].axis('off')  # Turn off axis labels\n",
        "\n",
        "  plt.show()"
      ]
    }
  ],
  "metadata": {
    "accelerator": "GPU",
    "colab": {
      "gpuType": "T4",
      "provenance": [],
      "include_colab_link": true
    },
    "kernelspec": {
      "display_name": "Python 3 (ipykernel)",
      "language": "python",
      "name": "python3"
    },
    "language_info": {
      "codemirror_mode": {
        "name": "ipython",
        "version": 3
      },
      "file_extension": ".py",
      "mimetype": "text/x-python",
      "name": "python",
      "nbconvert_exporter": "python",
      "pygments_lexer": "ipython3",
      "version": "3.10.13"
    }
  },
  "nbformat": 4,
  "nbformat_minor": 0
}