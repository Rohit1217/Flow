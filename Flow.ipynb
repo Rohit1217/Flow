{
  "nbformat": 4,
  "nbformat_minor": 0,
  "metadata": {
    "colab": {
      "provenance": [],
      "authorship_tag": "ABX9TyNQqUSH7p0HRR8vD78odZHe",
      "include_colab_link": true
    },
    "kernelspec": {
      "name": "python3",
      "display_name": "Python 3"
    },
    "language_info": {
      "name": "python"
    }
  },
  "cells": [
    {
      "cell_type": "markdown",
      "metadata": {
        "id": "view-in-github",
        "colab_type": "text"
      },
      "source": [
        "<a href=\"https://colab.research.google.com/github/Rohit1217/Flow/blob/main/Flow.ipynb\" target=\"_parent\"><img src=\"https://colab.research.google.com/assets/colab-badge.svg\" alt=\"Open In Colab\"/></a>"
      ]
    },
    {
      "cell_type": "code",
      "execution_count": 2,
      "metadata": {
        "id": "uvW5Guuocp5t"
      },
      "outputs": [],
      "source": [
        "import matplotlib.pyplot as plt\n",
        "import numpy as np\n",
        "\n",
        "import torch\n",
        "from torchvision import datasets, transforms\n",
        "from torch.utils.data import TensorDataset,DataLoader\n",
        "import torch.nn as nn\n",
        "import torch.optim as optim\n",
        "import torch.nn.functional as F"
      ]
    },
    {
      "cell_type": "code",
      "source": [
        "class AffineCoupling(nn.Module):\n",
        "  def __init__(self,input_layer):\n",
        "    super(AffineCoupling,self).__init__()\n",
        "    self.inp=input_layer//2\n",
        "    self.fc1=nn.Linear(self.inp,self.inp)\n",
        "\n",
        "  def coupling_shuffler(self,x):\n",
        "    b,c=x.shape\n",
        "    layer=torch.rand(b,c)\n",
        "    for i in range(c):\n",
        "      if i%2==0:\n",
        "        layer[:,c//2+i//2]=x[:,i]\n",
        "      else:\n",
        "        layer[:,i//2]=x[:,i]\n",
        "    return layer\n",
        "\n",
        "  def inverse(self,x):\n",
        "    b,c=x.shape\n",
        "    x0=x[:,:c//2]\n",
        "    x1=x[:,c//2:]\n",
        "    x1=x1-F.relu(self.fc1(x0))\n",
        "    x=torch.cat((x0, x1), 1)\n",
        "    layer=torch.rand(b,c)\n",
        "    for i in range(c):\n",
        "      if i>=c//2:\n",
        "        layer[:,2*i-c]=x[:,i]\n",
        "      else:\n",
        "        layer[:,i*2+1]=x[:,i]\n",
        "    return layer\n",
        "\n",
        "\n",
        "  def forward(self,x):\n",
        "    b,c=x.shape\n",
        "    x=self.coupling_shuffler(x)\n",
        "    x0=x[:,:c//2]\n",
        "    x1=x[:,c//2:]\n",
        "    x1=x1+F.relu(self.fc1(x0))\n",
        "    x=torch.cat((x0, x1), 1)\n",
        "    return x\n",
        "\n",
        "x=torch.rand(1,6)\n",
        "print(x)\n",
        "aff=AffineCoupling(6)\n",
        "y=aff(x)\n",
        "print(aff(x))\n",
        "aff.inverse(y)\n"
      ],
      "metadata": {
        "colab": {
          "base_uri": "https://localhost:8080/"
        },
        "id": "xxUhLeSoe2xB",
        "outputId": "d11d80a1-fdd6-4d64-e30f-2bcb14e27465"
      },
      "execution_count": 41,
      "outputs": [
        {
          "output_type": "stream",
          "name": "stdout",
          "text": [
            "tensor([[0.1609, 0.6871, 0.6674, 0.0603, 0.2123, 0.6034]])\n",
            "tensor([[0.6871, 0.0603, 0.6034, 0.3910, 0.6674, 0.2123]],\n",
            "       grad_fn=<CatBackward0>)\n"
          ]
        },
        {
          "output_type": "execute_result",
          "data": {
            "text/plain": [
              "tensor([[0.1609, 0.6871, 0.6674, 0.0603, 0.2123, 0.6034]],\n",
              "       grad_fn=<CopySlices>)"
            ]
          },
          "metadata": {},
          "execution_count": 41
        }
      ]
    },
    {
      "cell_type": "code",
      "source": [
        "class Flow(nn.Module):\n",
        "  def __init__(self,input_layer):\n",
        "    super(Flow,self).__init__()\n",
        "    self.inp=input_layer\n",
        "    self.ac1=AffineCoupling(input_layer)\n",
        "    self.ac2=AffineCoupling(input_layer)\n",
        "    self.ac3=AffineCoupling(input_layer)\n",
        "    self.ac4=AffineCoupling(input_layer)\n",
        "    self.fc5=nn.Linear(input_layer,input_layer)\n",
        "\n",
        "  def inverse(self,x):\n",
        "    #x=torch.rand(self.inp)\n",
        "    x= torch.log((x/(1-x+1e-8))+1e-8)\n",
        "    x=self.ac4.inverse(x)\n",
        "    x=self.ac3.inverse(x)\n",
        "    x=self.ac2.inverse(x)\n",
        "    x=self.ac1.inverse(x)\n",
        "    return x\n",
        "\n",
        "\n",
        "  def forward(self,x):\n",
        "    x=self.ac1(x)\n",
        "    x=self.ac2(x)\n",
        "    x=self.ac3(x)\n",
        "    x=self.ac4(x)\n",
        "    x=F.sigmoid(x)\n",
        "    return x\n",
        "\n",
        "x=torch.rand(1,6)\n",
        "print(x)\n",
        "flow=Flow(6)\n",
        "y=flow(x)\n",
        "x=flow.inverse(y)\n",
        "print(y,x)\n"
      ],
      "metadata": {
        "colab": {
          "base_uri": "https://localhost:8080/"
        },
        "id": "X3m-xne4jyye",
        "outputId": "908ee01f-39d3-40ce-a31f-2020b2d8413e"
      },
      "execution_count": 43,
      "outputs": [
        {
          "output_type": "stream",
          "name": "stdout",
          "text": [
            "tensor([[0.7808, 0.0852, 0.3202, 0.5240, 0.2204, 0.2721]])\n",
            "tensor([[0.5213, 0.6281, 0.7360, 0.6859, 0.6881, 0.5759]],\n",
            "       grad_fn=<SigmoidBackward0>) tensor([[0.7808, 0.0852, 0.3202, 0.5240, 0.2204, 0.2721]],\n",
            "       grad_fn=<CopySlices>)\n"
          ]
        }
      ]
    }
  ]
}