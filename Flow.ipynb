{
  "nbformat": 4,
  "nbformat_minor": 0,
  "metadata": {
    "colab": {
      "provenance": [],
      "authorship_tag": "ABX9TyNXnxlTiIlBLFqw2zoV6UR2",
      "include_colab_link": true
    },
    "kernelspec": {
      "name": "python3",
      "display_name": "Python 3"
    },
    "language_info": {
      "name": "python"
    }
  },
  "cells": [
    {
      "cell_type": "markdown",
      "metadata": {
        "id": "view-in-github",
        "colab_type": "text"
      },
      "source": [
        "<a href=\"https://colab.research.google.com/github/Rohit1217/Flow/blob/main/Flow.ipynb\" target=\"_parent\"><img src=\"https://colab.research.google.com/assets/colab-badge.svg\" alt=\"Open In Colab\"/></a>"
      ]
    },
    {
      "cell_type": "code",
      "execution_count": 2,
      "metadata": {
        "id": "uvW5Guuocp5t"
      },
      "outputs": [],
      "source": [
        "import matplotlib.pyplot as plt\n",
        "import numpy as np\n",
        "\n",
        "import torch\n",
        "from torchvision import datasets, transforms\n",
        "from torch.utils.data import TensorDataset,DataLoader\n",
        "import torch.nn as nn\n",
        "import torch.optim as optim\n",
        "import torch.nn.functional as F"
      ]
    },
    {
      "cell_type": "code",
      "source": [],
      "metadata": {
        "colab": {
          "base_uri": "https://localhost:8080/"
        },
        "id": "Sta5MNL2e1qn",
        "outputId": "d6eee73a-347a-425f-8104-3dcd9a8493da"
      },
      "execution_count": 4,
      "outputs": [
        {
          "output_type": "execute_result",
          "data": {
            "text/plain": [
              "2"
            ]
          },
          "metadata": {},
          "execution_count": 4
        }
      ]
    },
    {
      "cell_type": "code",
      "source": [
        "class AffineCoupling(nn.Module):\n",
        "  def __init__(self,input_layer):\n",
        "    super(AffineCoupling,self).__init__()\n",
        "    self.inp=input_layer//2\n",
        "    self.fc1=nn.Linear(self.inp,self.inp)\n",
        "\n",
        "  def coupling_shuffler(self,x):\n",
        "    b,c=x.shape\n",
        "    layer=torch.rand(b,c)\n",
        "    for i in range(c):\n",
        "      if i%2==0:\n",
        "        layer[:,c//2+i//2]=x[:,i]\n",
        "      else:\n",
        "        layer[:,i//2]=x[:,i]\n",
        "    return layer\n",
        "\n",
        "  def inverse(self,x):\n",
        "    b,c=x.shape\n",
        "    x0=x[:,:c//2]\n",
        "    x1=x[:,c//2:]\n",
        "    x1=x1-F.relu(self.fc1(x0))\n",
        "    layer=torch.rand(b,c)\n",
        "    for i in range(c):\n",
        "      if i%2==0:\n",
        "        layer[:,c//2+i//2]=x[:,i]\n",
        "      else:\n",
        "        layer[:,i//2]=x[:,i]\n",
        "    return layer\n",
        "\n",
        "\n",
        "\n",
        "    return\n",
        "\n",
        "  def forward(self,x):\n",
        "    b,c=x.shape\n",
        "    x=self.coupling_shuffler(x)\n",
        "    x0=x[:,:c//2]\n",
        "    x1=x[:,c//2:]\n",
        "    x1=x1+F.relu(self.fc1(x0))\n",
        "    x=torch.cat((x0, x1), 1)\n",
        "    return x\n",
        "\n",
        "x=torch.rand(1,6)\n",
        "aff=AffineCoupling(6)\n",
        "aff(x)\n"
      ],
      "metadata": {
        "colab": {
          "base_uri": "https://localhost:8080/"
        },
        "id": "xxUhLeSoe2xB",
        "outputId": "974342ee-b9f6-4118-efbd-aa4440de0a6e"
      },
      "execution_count": 25,
      "outputs": [
        {
          "output_type": "execute_result",
          "data": {
            "text/plain": [
              "tensor([[0.0659, 0.6970, 0.1744, 0.5565, 0.5197, 0.9879]],\n",
              "       grad_fn=<CatBackward0>)"
            ]
          },
          "metadata": {},
          "execution_count": 25
        }
      ]
    },
    {
      "cell_type": "code",
      "source": [
        "class Flow(nn.Module):\n",
        "  def __init__(self,input_layer):\n",
        "    super(Flow,self).__init__()\n",
        "    self.inp=input_layer\n",
        "    self.ac1=AffineCoupling(input_layer)\n",
        "    self.ac2=AffineCoupling(input_layer)\n",
        "    self.ac3=AffineCoupling(input_layer)\n",
        "    self.ac4=AffineCoupling(input_layer)\n",
        "    self.fc5=nn.Linear(input_layer,input_layer)\n",
        "\n",
        "  def sampling(self)\n",
        "    x=torch.rand(self.inp)\n",
        "\n",
        "\n",
        "\n",
        "  def forward(self,x):\n",
        "    x=self.ac1(x)\n",
        "    x=self.ac2(x)\n",
        "    x=self.ac3(x)\n",
        "    x=self.ac4(x)\n",
        "    x=F.sigmoid(self.fc5(x))\n",
        "    return x\n",
        "\n",
        "\n"
      ],
      "metadata": {
        "id": "X3m-xne4jyye"
      },
      "execution_count": 26,
      "outputs": []
    }
  ]
}